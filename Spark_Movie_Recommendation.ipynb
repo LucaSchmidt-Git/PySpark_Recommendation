{
 "cells": [
  {
   "cell_type": "code",
   "execution_count": 194,
   "id": "d4b16405",
   "metadata": {},
   "outputs": [],
   "source": [
    "from pyspark.sql import SparkSession\n",
    "from pyspark.sql import functions as F\n",
    "from pyspark.ml.feature import VectorAssembler, StandardScaler, StringIndexer\n",
    "from pyspark.ml.regression import LinearRegression\n",
    "from pyspark.ml.recommendation import ALS\n",
    "from pyspark.ml.evaluation import RegressionEvaluator\n",
    "from pyspark.ml.tuning import ParamGridBuilder, CrossValidator"
   ]
  },
  {
   "cell_type": "code",
   "execution_count": 77,
   "id": "bf1fd6f2",
   "metadata": {},
   "outputs": [
    {
     "data": {
      "text/html": [
       "\n",
       "            <div>\n",
       "                <p><b>SparkSession - in-memory</b></p>\n",
       "                \n",
       "        <div>\n",
       "            <p><b>SparkContext</b></p>\n",
       "\n",
       "            <p><a href=\"http://DESKTOP-V86HHL8.fritz.box:4040\">Spark UI</a></p>\n",
       "\n",
       "            <dl>\n",
       "              <dt>Version</dt>\n",
       "                <dd><code>v4.0.0</code></dd>\n",
       "              <dt>Master</dt>\n",
       "                <dd><code>local[*]</code></dd>\n",
       "              <dt>AppName</dt>\n",
       "                <dd><code>MovieLense_ML</code></dd>\n",
       "            </dl>\n",
       "        </div>\n",
       "        \n",
       "            </div>\n",
       "        "
      ],
      "text/plain": [
       "<pyspark.sql.session.SparkSession at 0x18590e51d30>"
      ]
     },
     "execution_count": 77,
     "metadata": {},
     "output_type": "execute_result"
    }
   ],
   "source": [
    "spark = SparkSession.builder.appName(\"MovieLense_ML\").getOrCreate()\n",
    "spark"
   ]
  },
  {
   "cell_type": "code",
   "execution_count": 124,
   "id": "3d796839",
   "metadata": {},
   "outputs": [
    {
     "name": "stdout",
     "output_type": "stream",
     "text": [
      "+-------+-------+------+---------+------------+------------------+-------+------+---------+---------+---------+------+-----+-----------+-----+-------+---------+------+-------+-------+-------+------+--------+---+-------+---+------+----------+\n",
      "|user_id|item_id|rating|timestamp|release_date|video_release_date|unknown|Action|Adventure|Animation|Childrens|Comedy|Crime|Documentary|Drama|Fantasy|Film-Noir|Horror|Musical|Mystery|Romance|Sci-Fi|Thriller|War|Western|age|gender|       job|\n",
      "+-------+-------+------+---------+------------+------------------+-------+------+---------+---------+---------+------+-----+-----------+-----+-------+---------+------+-------+-------+-------+------+--------+---+-------+---+------+----------+\n",
      "|    196|    242|     3|881250949| 24-Jan-1997|              NULL|      0|     0|        0|        0|        0|     1|    0|          0|    0|      0|        0|     0|      0|      0|      0|     0|       0|  0|      0| 49|     M|    writer|\n",
      "|    186|    302|     3|891717742| 01-Jan-1997|              NULL|      0|     0|        0|        0|        0|     0|    1|          0|    0|      0|        1|     0|      0|      1|      0|     0|       1|  0|      0| 39|     F| executive|\n",
      "|     22|    377|     1|878887116| 01-Jan-1994|              NULL|      0|     0|        0|        0|        1|     1|    0|          0|    0|      0|        0|     0|      0|      0|      0|     0|       0|  0|      0| 25|     M|    writer|\n",
      "|    244|     51|     2|880606923| 01-Jan-1994|              NULL|      0|     0|        0|        0|        0|     0|    0|          0|    1|      0|        0|     0|      0|      0|      1|     0|       0|  1|      1| 28|     M|technician|\n",
      "|    166|    346|     1|886397596| 01-Jan-1997|              NULL|      0|     0|        0|        0|        0|     0|    1|          0|    1|      0|        0|     0|      0|      0|      0|     0|       0|  0|      0| 47|     M|  educator|\n",
      "+-------+-------+------+---------+------------+------------------+-------+------+---------+---------+---------+------+-----+-----------+-----+-------+---------+------+-------+-------+-------+------+--------+---+-------+---+------+----------+\n",
      "only showing top 5 rows\n"
     ]
    }
   ],
   "source": [
    "df_ratings = spark.read.csv(\"./ml-100k/u.data\", sep=\"\\t\", inferSchema=True)\n",
    "df_movies= spark.read.csv(\"./ml-100k/u.item\", sep=\"|\", inferSchema=True)\n",
    "df_users = spark.read.csv(\"./ml-100k/u.user\", sep=\"|\", inferSchema=True)\n",
    "\n",
    "base_cols = [f\"_c{k}\" for k in range(24)]\n",
    "# The dataset has no header, so we create them bases on README \n",
    "for old, new in zip(base_cols[:4], [\"user_id\", \"item_id\", \"rating\", \"timestamp\"]):\n",
    "    df_ratings = df_ratings.withColumnRenamed(old, new)\n",
    "    \n",
    "# Now for movie names \n",
    "movie_cols = [\"item_id\", \"movie_title\", \"release_date\", \"video_release_date\", \"IMDb_URL\", \"unknown\", \"Action\", \"Adventure\", \"Animation\",\n",
    "              \"Childrens\", \"Comedy\", \"Crime\", \"Documentary\", \"Drama\", \"Fantasy\", \"Film-Noir\", \"Horror\", \"Musical\", \"Mystery\", \"Romance\", \n",
    "              \"Sci-Fi\", \"Thriller\", \"War\", \"Western\" ]\n",
    "\n",
    "for old, new in zip(base_cols, movie_cols):\n",
    "    df_movies = df_movies.withColumnRenamed(old, new)\n",
    "\n",
    "df_movie_title_mapping = df_movies.select([\"item_id\", \"movie_title\"])\n",
    "\n",
    "# Now for users \n",
    "user_cols = [\"user_id\", \"age\", \"gender\", \"job\", \"zip_code\"]\n",
    "for old, new in zip(base_cols, user_cols):\n",
    "    df_users = df_users.withColumnRenamed(old, new)\n",
    "    \n",
    "\n",
    "# join all\n",
    "df_ratings = df_ratings.join(df_movies, on=[\"item_id\"], how=\"left\").join(df_users, on=[\"user_id\"], how=\"left\")\n",
    "\n",
    "# drop unneccessary (for ML) columns \n",
    "df_ratings = df_ratings.drop(\"IMDb_URL\")\n",
    "df_ratings = df_ratings.drop(\"movie_title\")\n",
    "df_ratings = df_ratings.drop(\"zip_code\")\n",
    "\n",
    "df_ratings.show(5)\n"
   ]
  },
  {
   "cell_type": "code",
   "execution_count": 125,
   "id": "a2c7f539",
   "metadata": {},
   "outputs": [
    {
     "name": "stdout",
     "output_type": "stream",
     "text": [
      "+-------+-------+------+---------+------------+------------------+-------+------+---------+---------+---------+------+-----+-----------+-----+-------+---------+------+-------+-------+-------+------+--------+---+-------+---+------+---+\n",
      "|user_id|item_id|rating|timestamp|release_date|video_release_date|unknown|Action|Adventure|Animation|Childrens|Comedy|Crime|Documentary|Drama|Fantasy|Film-Noir|Horror|Musical|Mystery|Romance|Sci-Fi|Thriller|War|Western|age|gender|job|\n",
      "+-------+-------+------+---------+------------+------------------+-------+------+---------+---------+---------+------+-----+-----------+-----+-------+---------+------+-------+-------+-------+------+--------+---+-------+---+------+---+\n",
      "|      0|      0|     0|        0|           9|            100000|      0|     0|        0|        0|        0|     0|    0|          0|    0|      0|        0|     0|      0|      0|      0|     0|       0|  0|      0|  0|     0|  0|\n",
      "+-------+-------+------+---------+------------+------------------+-------+------+---------+---------+---------+------+-----+-----------+-----+-------+---------+------+-------+-------+-------+------+--------+---+-------+---+------+---+\n",
      "\n"
     ]
    }
   ],
   "source": [
    "# Number of missing values \n",
    "df_ratings.select([F.count(F.when(F.col(c).isNull(), c)).alias(c) for c in df_ratings.columns]).show()"
   ]
  },
  {
   "cell_type": "markdown",
   "id": "1ec2ed7e",
   "metadata": {},
   "source": [
    "We see that video_release_date is irrelevant, since there are no values. Also release_date has 9 missing values"
   ]
  },
  {
   "cell_type": "code",
   "execution_count": 126,
   "id": "a234aa0c",
   "metadata": {},
   "outputs": [],
   "source": [
    "df_ratings = df_ratings.drop(\"video_release_date\")\n",
    "df_ratings = df_ratings.na.drop()"
   ]
  },
  {
   "cell_type": "markdown",
   "id": "b28f9a42",
   "metadata": {},
   "source": [
    "We now have to transform release_date"
   ]
  },
  {
   "cell_type": "code",
   "execution_count": 154,
   "id": "a4527ed1",
   "metadata": {},
   "outputs": [],
   "source": [
    "# Step 1: Parse date into YYYY-MM-DD\n",
    "df = df_ratings.withColumn(\"parsed_date\", F.to_date(F.col(\"release_date\"), \"d-MMM-yyyy\")).drop(\"release_date\")\n",
    "\n",
    "# Step 2: reformat it into DDMMYYYY\n",
    "df = df.withColumn(\"formatted_date\", F.date_format(F.col(\"parsed_date\"), \"ddMMyyyy\")).drop(\"parsed_date\")\n",
    "df = df.withColumn(\"formatted_date_cast\", df.formatted_date.cast(\"int\"))     # Convert to int \n",
    "df = df.drop(\"formatted_date\")\n",
    "df = df.withColumnRenamed(\"formatted_date_cast\", \"formatted_date\")"
   ]
  },
  {
   "cell_type": "markdown",
   "id": "83201fc3",
   "metadata": {},
   "source": [
    "Encode Job and Gender"
   ]
  },
  {
   "cell_type": "code",
   "execution_count": 155,
   "id": "20cfb1ec",
   "metadata": {},
   "outputs": [
    {
     "name": "stdout",
     "output_type": "stream",
     "text": [
      "+-------+-------+------+---------+-------+------+---------+---------+---------+------+-----+-----------+-----+-------+---------+------+-------+-------+-------+------+--------+---+-------+---+--------------+------+---+\n",
      "|user_id|item_id|rating|timestamp|unknown|Action|Adventure|Animation|Childrens|Comedy|Crime|Documentary|Drama|Fantasy|Film-Noir|Horror|Musical|Mystery|Romance|Sci-Fi|Thriller|War|Western|age|formatted_date|gender|job|\n",
      "+-------+-------+------+---------+-------+------+---------+---------+---------+------+-----+-----------+-----+-------+---------+------+-------+-------+-------+------+--------+---+-------+---+--------------+------+---+\n",
      "|    196|    242|     3|881250949|      0|     0|        0|        0|        0|     1|    0|          0|    0|      0|        0|     0|      0|      0|      0|     0|       0|  0|      0| 49|      24011997|   0.0|6.0|\n",
      "|    186|    302|     3|891717742|      0|     0|        0|        0|        0|     0|    1|          0|    0|      0|        1|     0|      0|      1|      0|     0|       1|  0|      0| 39|       1011997|   1.0|9.0|\n",
      "|     22|    377|     1|878887116|      0|     0|        0|        0|        1|     1|    0|          0|    0|      0|        0|     0|      0|      0|      0|     0|       0|  0|      0| 25|       1011994|   0.0|6.0|\n",
      "|    244|     51|     2|880606923|      0|     0|        0|        0|        0|     0|    0|          0|    1|      0|        0|     0|      0|      0|      1|     0|       0|  1|      1| 28|       1011994|   0.0|8.0|\n",
      "|    166|    346|     1|886397596|      0|     0|        0|        0|        0|     0|    1|          0|    1|      0|        0|     0|      0|      0|      0|     0|       0|  0|      0| 47|       1011997|   0.0|2.0|\n",
      "+-------+-------+------+---------+-------+------+---------+---------+---------+------+-----+-----------+-----+-------+---------+------+-------+-------+-------+------+--------+---+-------+---+--------------+------+---+\n",
      "only showing top 5 rows\n"
     ]
    }
   ],
   "source": [
    "indexer = StringIndexer(inputCols=[\"gender\", \"job\"], outputCols=[\"gender_encoded\", \"job_encoded\"])\n",
    "indexed_df = indexer.fit(df).transform(df)\n",
    "# drop old columns \n",
    "indexed_df = indexed_df.drop(\"job\").withColumnRenamed(\"job_encoded\", \"job\")\n",
    "indexed_df = indexed_df.drop(\"gender\").withColumnRenamed(\"gender_encoded\", \"gender\")\n",
    "indexed_df.show(5)"
   ]
  },
  {
   "cell_type": "markdown",
   "id": "e9a14a64",
   "metadata": {},
   "source": [
    "### (Small) Dataset analysis"
   ]
  },
  {
   "cell_type": "markdown",
   "id": "0502815c",
   "metadata": {},
   "source": [
    "Best Movie"
   ]
  },
  {
   "cell_type": "code",
   "execution_count": 156,
   "id": "f1c00faa",
   "metadata": {},
   "outputs": [
    {
     "name": "stdout",
     "output_type": "stream",
     "text": [
      "+-------+-----------+-------------------------------------------------+\n",
      "|item_id|avg(rating)|movie_title                                      |\n",
      "+-------+-----------+-------------------------------------------------+\n",
      "|1599   |5.0        |Someone Else's America (1995)                    |\n",
      "|1500   |5.0        |Santa with Muscles (1996)                        |\n",
      "|1201   |5.0        |Marlene Dietrich: Shadow and Light (1996)        |\n",
      "|1653   |5.0        |Entertaining Angels: The Dorothy Day Story (1996)|\n",
      "|1122   |5.0        |They Made Me a Criminal (1939)                   |\n",
      "|1467   |5.0        |Saint of Fort Washington, The (1993)             |\n",
      "|1189   |5.0        |Prefontaine (1997)                               |\n",
      "|1293   |5.0        |Star Kid (1997)                                  |\n",
      "|1536   |5.0        |Aiqing wansui (1994)                             |\n",
      "|814    |5.0        |Great Day in Harlem, A (1994)                    |\n",
      "|1449   |4.625      |Pather Panchali (1955)                           |\n",
      "+-------+-----------+-------------------------------------------------+\n",
      "only showing top 11 rows\n"
     ]
    }
   ],
   "source": [
    "df_avg_rating = indexed_df.select([\"item_id\", \"rating\"]).groupBy(\"item_id\").mean().drop(\"avg(item_id)\")\n",
    "\n",
    "# Join movie names \n",
    "df_avg_rating = df_avg_rating.join(df_movie_title_mapping, on=\"item_id\", how=\"left\")\n",
    "\n",
    "# Display top 5 movie Ids\n",
    "df_avg_rating = df_avg_rating.orderBy(\"avg(rating)\", ascending=False)\n",
    "\n",
    "df_avg_rating.show(11, truncate=False)"
   ]
  },
  {
   "cell_type": "markdown",
   "id": "991523f5",
   "metadata": {},
   "source": [
    "Most frequent user: "
   ]
  },
  {
   "cell_type": "code",
   "execution_count": 157,
   "id": "ac0c0fb5",
   "metadata": {},
   "outputs": [
    {
     "name": "stdout",
     "output_type": "stream",
     "text": [
      "+-------+-----+\n",
      "|user_id|count|\n",
      "+-------+-----+\n",
      "|    405|  737|\n",
      "|    655|  685|\n",
      "|     13|  636|\n",
      "|    450|  540|\n",
      "|    276|  518|\n",
      "|    416|  493|\n",
      "|    537|  490|\n",
      "|    303|  484|\n",
      "|    234|  480|\n",
      "|    393|  448|\n",
      "+-------+-----+\n",
      "only showing top 10 rows\n"
     ]
    }
   ],
   "source": [
    "df_most_freq_user = indexed_df.select([\"user_id\", \"rating\"]).groupBy(\"user_id\").count().orderBy(\"count\", ascending=False).show(10)"
   ]
  },
  {
   "cell_type": "markdown",
   "id": "f0e9b340",
   "metadata": {},
   "source": [
    "Male vs Female ditribution"
   ]
  },
  {
   "cell_type": "code",
   "execution_count": 158,
   "id": "858d7b7b",
   "metadata": {},
   "outputs": [
    {
     "name": "stdout",
     "output_type": "stream",
     "text": [
      "+------+-----+\n",
      "|gender|count|\n",
      "+------+-----+\n",
      "|   0.0|74253|\n",
      "|   1.0|25738|\n",
      "+------+-----+\n",
      "\n"
     ]
    }
   ],
   "source": [
    "male_female = indexed_df.select([\"gender\", \"rating\"]).groupBy(\"gender\").count()\n",
    "male_female.show()\n",
    "\n",
    "# Mapping: \n",
    "# Males    0\n",
    "# Females  1\n",
    "\n",
    "# We have a sever class imbalance"
   ]
  },
  {
   "cell_type": "markdown",
   "id": "f9a1654f",
   "metadata": {},
   "source": [
    "### Recommendation System \n",
    "\n",
    "We build a recomendation system using linear regression. This is *not* a good approach, since there are conceptually better models \n",
    "for recommandation (Like collaborative filtering). \n",
    "\n",
    "PySpark gives us the ALS model (collab filtering with two vectors instead of matrices), but this only used the user_id and movie_id as features. \n",
    "\n",
    "We will first build the linear regression model on all features and compare it to the build-in ALS model"
   ]
  },
  {
   "cell_type": "code",
   "execution_count": 191,
   "id": "9b8e742f",
   "metadata": {},
   "outputs": [],
   "source": [
    "## Regression \n",
    "# Vectorize and Standardize \n",
    "featurecols = [col for col in indexed_df.columns if col != \"rating\"]\n",
    "\n",
    "featureassembler = VectorAssembler(inputCols=featurecols, outputCol=\"Features\")\n",
    "\n",
    "output = featureassembler.transform(indexed_df)\n",
    "\n",
    "model_unscaled = output.select([\"features\", \"rating\"])\n",
    " \n",
    "scaler = StandardScaler(inputCol=\"features\", outputCol=\"scaled_features\", withMean=True, withStd=True)\n",
    "model_scaled = scaler.fit(model_unscaled).transform(model_unscaled)\n",
    "\n",
    "final_df = model_scaled.select(\"scaled_features\", \"rating\")\n",
    "\n",
    "# Make regression\n",
    "train_data_linreg, test_data_linreg = final_df.randomSplit([0.7, 0.3])\n",
    "\n",
    "regressor = LinearRegression(featuresCol=\"scaled_features\", labelCol=\"rating\")\n",
    "regressor = regressor.fit(train_data_linreg)"
   ]
  },
  {
   "cell_type": "code",
   "execution_count": null,
   "id": "f900862f",
   "metadata": {},
   "outputs": [],
   "source": [
    "# Recommendation\n",
    "\n",
    "train_data_recom, test_data_recom = indexed_df.randomSplit([0.7, 0.3])\n",
    "\n",
    "als = ALS(userCol=\"user_id\", itemCol=\"item_id\", ratingCol=\"rating\", nonnegative=True, coldStartStrategy=\"drop\")\n",
    "\n",
    "# create hyperparameter grid \n",
    "param_grid = ParamGridBuilder().addGrid(\n",
    "    als.rank, [5, 10, 30]\n",
    ").addGrid(\n",
    "    als.maxIter, [10, 20]\n",
    ").addGrid(\n",
    "    als.regParam, [0.01, 0.05]\n",
    ").build()\n",
    "\n",
    "als_eval = RegressionEvaluator(metricName=\"mse\", labelCol=\"rating\", predictionCol=\"prediction\")\n",
    "\n",
    "cv = CrossValidator(\n",
    "    estimator=als, \n",
    "    estimatorParamMaps=param_grid, \n",
    "    evaluator=als_eval, \n",
    "    numFolds=5\n",
    ")\n",
    "\n",
    "# Find best model via cross validation\n",
    "als_model = cv.fit(train_data_recom)\n",
    "best_model = als_model.bestModel"
   ]
  },
  {
   "cell_type": "markdown",
   "id": "e9fe2108",
   "metadata": {},
   "source": [
    "## Evaluation"
   ]
  },
  {
   "cell_type": "code",
   "execution_count": 193,
   "id": "a12aa67f",
   "metadata": {},
   "outputs": [
    {
     "name": "stdout",
     "output_type": "stream",
     "text": [
      "MSE of linear regression:\t 1.170957160299126\n",
      "MSE of recommendation system (ALS):\t 0.8888869307248878\n"
     ]
    }
   ],
   "source": [
    "# regression \n",
    "linreg_prediction = regressor.evaluate(test_data_linreg)\n",
    "print(\"MSE of linear regression:\\t\", linreg_prediction.meanSquaredError)\n",
    "\n",
    "# recommendation \n",
    "predictions = best_model.transform(test_data_recom)\n",
    "\n",
    "als_mse = als_eval.evaluate(predictions)\n",
    "print(\"MSE of recommendation system (ALS):\\t\", als_mse)"
   ]
  },
  {
   "cell_type": "markdown",
   "id": "a259f194",
   "metadata": {},
   "source": [
    "We see, that ALS is still superior to the linear regression, even tho it uses less features. \n",
    "\n",
    "Reason: The data is not well suitable for linear regression. Other (non-linear) regressor will likely beat the ALS, since it uses way less features. \n",
    "\n",
    "Careful: We did not do any feature importance. So, there can be features, that drag down the performance. "
   ]
  }
 ],
 "metadata": {
  "kernelspec": {
   "display_name": ".venv",
   "language": "python",
   "name": "python3"
  },
  "language_info": {
   "codemirror_mode": {
    "name": "ipython",
    "version": 3
   },
   "file_extension": ".py",
   "mimetype": "text/x-python",
   "name": "python",
   "nbconvert_exporter": "python",
   "pygments_lexer": "ipython3",
   "version": "3.13.5"
  }
 },
 "nbformat": 4,
 "nbformat_minor": 5
}
